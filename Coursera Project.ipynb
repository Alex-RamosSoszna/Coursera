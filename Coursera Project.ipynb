{
 "cells": [
  {
   "cell_type": "code",
   "execution_count": 33,
   "id": "6a6d2abe",
   "metadata": {},
   "outputs": [],
   "source": [
    "import pandas as pd\n",
    "boston_url = 'https://cf-courses-data.s3.us.cloud-object-storage.appdomain.cloud/IBMDeveloperSkillsNetwork-ST0151EN-SkillsNetwork/labs/boston_housing.csv'\n",
    "df=pd.read_csv(boston_url)"
   ]
  },
  {
   "cell_type": "code",
   "execution_count": 34,
   "id": "bba65a14",
   "metadata": {},
   "outputs": [
    {
     "data": {
      "text/html": [
       "<div>\n",
       "<style scoped>\n",
       "    .dataframe tbody tr th:only-of-type {\n",
       "        vertical-align: middle;\n",
       "    }\n",
       "\n",
       "    .dataframe tbody tr th {\n",
       "        vertical-align: top;\n",
       "    }\n",
       "\n",
       "    .dataframe thead th {\n",
       "        text-align: right;\n",
       "    }\n",
       "</style>\n",
       "<table border=\"1\" class=\"dataframe\">\n",
       "  <thead>\n",
       "    <tr style=\"text-align: right;\">\n",
       "      <th></th>\n",
       "      <th>Unnamed: 0</th>\n",
       "      <th>CRIM</th>\n",
       "      <th>ZN</th>\n",
       "      <th>INDUS</th>\n",
       "      <th>CHAS</th>\n",
       "      <th>NOX</th>\n",
       "      <th>RM</th>\n",
       "      <th>AGE</th>\n",
       "      <th>DIS</th>\n",
       "      <th>RAD</th>\n",
       "      <th>TAX</th>\n",
       "      <th>PTRATIO</th>\n",
       "      <th>LSTAT</th>\n",
       "      <th>MEDV</th>\n",
       "    </tr>\n",
       "  </thead>\n",
       "  <tbody>\n",
       "    <tr>\n",
       "      <th>0</th>\n",
       "      <td>0</td>\n",
       "      <td>0.00632</td>\n",
       "      <td>18.0</td>\n",
       "      <td>2.31</td>\n",
       "      <td>0.0</td>\n",
       "      <td>0.538</td>\n",
       "      <td>6.575</td>\n",
       "      <td>65.2</td>\n",
       "      <td>4.0900</td>\n",
       "      <td>1.0</td>\n",
       "      <td>296.0</td>\n",
       "      <td>15.3</td>\n",
       "      <td>4.98</td>\n",
       "      <td>24.0</td>\n",
       "    </tr>\n",
       "    <tr>\n",
       "      <th>1</th>\n",
       "      <td>1</td>\n",
       "      <td>0.02731</td>\n",
       "      <td>0.0</td>\n",
       "      <td>7.07</td>\n",
       "      <td>0.0</td>\n",
       "      <td>0.469</td>\n",
       "      <td>6.421</td>\n",
       "      <td>78.9</td>\n",
       "      <td>4.9671</td>\n",
       "      <td>2.0</td>\n",
       "      <td>242.0</td>\n",
       "      <td>17.8</td>\n",
       "      <td>9.14</td>\n",
       "      <td>21.6</td>\n",
       "    </tr>\n",
       "    <tr>\n",
       "      <th>2</th>\n",
       "      <td>2</td>\n",
       "      <td>0.02729</td>\n",
       "      <td>0.0</td>\n",
       "      <td>7.07</td>\n",
       "      <td>0.0</td>\n",
       "      <td>0.469</td>\n",
       "      <td>7.185</td>\n",
       "      <td>61.1</td>\n",
       "      <td>4.9671</td>\n",
       "      <td>2.0</td>\n",
       "      <td>242.0</td>\n",
       "      <td>17.8</td>\n",
       "      <td>4.03</td>\n",
       "      <td>34.7</td>\n",
       "    </tr>\n",
       "    <tr>\n",
       "      <th>3</th>\n",
       "      <td>3</td>\n",
       "      <td>0.03237</td>\n",
       "      <td>0.0</td>\n",
       "      <td>2.18</td>\n",
       "      <td>0.0</td>\n",
       "      <td>0.458</td>\n",
       "      <td>6.998</td>\n",
       "      <td>45.8</td>\n",
       "      <td>6.0622</td>\n",
       "      <td>3.0</td>\n",
       "      <td>222.0</td>\n",
       "      <td>18.7</td>\n",
       "      <td>2.94</td>\n",
       "      <td>33.4</td>\n",
       "    </tr>\n",
       "    <tr>\n",
       "      <th>4</th>\n",
       "      <td>4</td>\n",
       "      <td>0.06905</td>\n",
       "      <td>0.0</td>\n",
       "      <td>2.18</td>\n",
       "      <td>0.0</td>\n",
       "      <td>0.458</td>\n",
       "      <td>7.147</td>\n",
       "      <td>54.2</td>\n",
       "      <td>6.0622</td>\n",
       "      <td>3.0</td>\n",
       "      <td>222.0</td>\n",
       "      <td>18.7</td>\n",
       "      <td>5.33</td>\n",
       "      <td>36.2</td>\n",
       "    </tr>\n",
       "    <tr>\n",
       "      <th>5</th>\n",
       "      <td>5</td>\n",
       "      <td>0.02985</td>\n",
       "      <td>0.0</td>\n",
       "      <td>2.18</td>\n",
       "      <td>0.0</td>\n",
       "      <td>0.458</td>\n",
       "      <td>6.430</td>\n",
       "      <td>58.7</td>\n",
       "      <td>6.0622</td>\n",
       "      <td>3.0</td>\n",
       "      <td>222.0</td>\n",
       "      <td>18.7</td>\n",
       "      <td>5.21</td>\n",
       "      <td>28.7</td>\n",
       "    </tr>\n",
       "    <tr>\n",
       "      <th>6</th>\n",
       "      <td>6</td>\n",
       "      <td>0.08829</td>\n",
       "      <td>12.5</td>\n",
       "      <td>7.87</td>\n",
       "      <td>0.0</td>\n",
       "      <td>0.524</td>\n",
       "      <td>6.012</td>\n",
       "      <td>66.6</td>\n",
       "      <td>5.5605</td>\n",
       "      <td>5.0</td>\n",
       "      <td>311.0</td>\n",
       "      <td>15.2</td>\n",
       "      <td>12.43</td>\n",
       "      <td>22.9</td>\n",
       "    </tr>\n",
       "    <tr>\n",
       "      <th>7</th>\n",
       "      <td>7</td>\n",
       "      <td>0.14455</td>\n",
       "      <td>12.5</td>\n",
       "      <td>7.87</td>\n",
       "      <td>0.0</td>\n",
       "      <td>0.524</td>\n",
       "      <td>6.172</td>\n",
       "      <td>96.1</td>\n",
       "      <td>5.9505</td>\n",
       "      <td>5.0</td>\n",
       "      <td>311.0</td>\n",
       "      <td>15.2</td>\n",
       "      <td>19.15</td>\n",
       "      <td>27.1</td>\n",
       "    </tr>\n",
       "    <tr>\n",
       "      <th>8</th>\n",
       "      <td>8</td>\n",
       "      <td>0.21124</td>\n",
       "      <td>12.5</td>\n",
       "      <td>7.87</td>\n",
       "      <td>0.0</td>\n",
       "      <td>0.524</td>\n",
       "      <td>5.631</td>\n",
       "      <td>100.0</td>\n",
       "      <td>6.0821</td>\n",
       "      <td>5.0</td>\n",
       "      <td>311.0</td>\n",
       "      <td>15.2</td>\n",
       "      <td>29.93</td>\n",
       "      <td>16.5</td>\n",
       "    </tr>\n",
       "    <tr>\n",
       "      <th>9</th>\n",
       "      <td>9</td>\n",
       "      <td>0.17004</td>\n",
       "      <td>12.5</td>\n",
       "      <td>7.87</td>\n",
       "      <td>0.0</td>\n",
       "      <td>0.524</td>\n",
       "      <td>6.004</td>\n",
       "      <td>85.9</td>\n",
       "      <td>6.5921</td>\n",
       "      <td>5.0</td>\n",
       "      <td>311.0</td>\n",
       "      <td>15.2</td>\n",
       "      <td>17.10</td>\n",
       "      <td>18.9</td>\n",
       "    </tr>\n",
       "    <tr>\n",
       "      <th>10</th>\n",
       "      <td>10</td>\n",
       "      <td>0.22489</td>\n",
       "      <td>12.5</td>\n",
       "      <td>7.87</td>\n",
       "      <td>0.0</td>\n",
       "      <td>0.524</td>\n",
       "      <td>6.377</td>\n",
       "      <td>94.3</td>\n",
       "      <td>6.3467</td>\n",
       "      <td>5.0</td>\n",
       "      <td>311.0</td>\n",
       "      <td>15.2</td>\n",
       "      <td>20.45</td>\n",
       "      <td>15.0</td>\n",
       "    </tr>\n",
       "    <tr>\n",
       "      <th>11</th>\n",
       "      <td>11</td>\n",
       "      <td>0.11747</td>\n",
       "      <td>12.5</td>\n",
       "      <td>7.87</td>\n",
       "      <td>0.0</td>\n",
       "      <td>0.524</td>\n",
       "      <td>6.009</td>\n",
       "      <td>82.9</td>\n",
       "      <td>6.2267</td>\n",
       "      <td>5.0</td>\n",
       "      <td>311.0</td>\n",
       "      <td>15.2</td>\n",
       "      <td>13.27</td>\n",
       "      <td>18.9</td>\n",
       "    </tr>\n",
       "    <tr>\n",
       "      <th>12</th>\n",
       "      <td>12</td>\n",
       "      <td>0.09378</td>\n",
       "      <td>12.5</td>\n",
       "      <td>7.87</td>\n",
       "      <td>0.0</td>\n",
       "      <td>0.524</td>\n",
       "      <td>5.889</td>\n",
       "      <td>39.0</td>\n",
       "      <td>5.4509</td>\n",
       "      <td>5.0</td>\n",
       "      <td>311.0</td>\n",
       "      <td>15.2</td>\n",
       "      <td>15.71</td>\n",
       "      <td>21.7</td>\n",
       "    </tr>\n",
       "    <tr>\n",
       "      <th>13</th>\n",
       "      <td>13</td>\n",
       "      <td>0.62976</td>\n",
       "      <td>0.0</td>\n",
       "      <td>8.14</td>\n",
       "      <td>0.0</td>\n",
       "      <td>0.538</td>\n",
       "      <td>5.949</td>\n",
       "      <td>61.8</td>\n",
       "      <td>4.7075</td>\n",
       "      <td>4.0</td>\n",
       "      <td>307.0</td>\n",
       "      <td>21.0</td>\n",
       "      <td>8.26</td>\n",
       "      <td>20.4</td>\n",
       "    </tr>\n",
       "    <tr>\n",
       "      <th>14</th>\n",
       "      <td>14</td>\n",
       "      <td>0.63796</td>\n",
       "      <td>0.0</td>\n",
       "      <td>8.14</td>\n",
       "      <td>0.0</td>\n",
       "      <td>0.538</td>\n",
       "      <td>6.096</td>\n",
       "      <td>84.5</td>\n",
       "      <td>4.4619</td>\n",
       "      <td>4.0</td>\n",
       "      <td>307.0</td>\n",
       "      <td>21.0</td>\n",
       "      <td>10.26</td>\n",
       "      <td>18.2</td>\n",
       "    </tr>\n",
       "    <tr>\n",
       "      <th>15</th>\n",
       "      <td>15</td>\n",
       "      <td>0.62739</td>\n",
       "      <td>0.0</td>\n",
       "      <td>8.14</td>\n",
       "      <td>0.0</td>\n",
       "      <td>0.538</td>\n",
       "      <td>5.834</td>\n",
       "      <td>56.5</td>\n",
       "      <td>4.4986</td>\n",
       "      <td>4.0</td>\n",
       "      <td>307.0</td>\n",
       "      <td>21.0</td>\n",
       "      <td>8.47</td>\n",
       "      <td>19.9</td>\n",
       "    </tr>\n",
       "    <tr>\n",
       "      <th>16</th>\n",
       "      <td>16</td>\n",
       "      <td>1.05393</td>\n",
       "      <td>0.0</td>\n",
       "      <td>8.14</td>\n",
       "      <td>0.0</td>\n",
       "      <td>0.538</td>\n",
       "      <td>5.935</td>\n",
       "      <td>29.3</td>\n",
       "      <td>4.4986</td>\n",
       "      <td>4.0</td>\n",
       "      <td>307.0</td>\n",
       "      <td>21.0</td>\n",
       "      <td>6.58</td>\n",
       "      <td>23.1</td>\n",
       "    </tr>\n",
       "    <tr>\n",
       "      <th>17</th>\n",
       "      <td>17</td>\n",
       "      <td>0.78420</td>\n",
       "      <td>0.0</td>\n",
       "      <td>8.14</td>\n",
       "      <td>0.0</td>\n",
       "      <td>0.538</td>\n",
       "      <td>5.990</td>\n",
       "      <td>81.7</td>\n",
       "      <td>4.2579</td>\n",
       "      <td>4.0</td>\n",
       "      <td>307.0</td>\n",
       "      <td>21.0</td>\n",
       "      <td>14.67</td>\n",
       "      <td>17.5</td>\n",
       "    </tr>\n",
       "    <tr>\n",
       "      <th>18</th>\n",
       "      <td>18</td>\n",
       "      <td>0.80271</td>\n",
       "      <td>0.0</td>\n",
       "      <td>8.14</td>\n",
       "      <td>0.0</td>\n",
       "      <td>0.538</td>\n",
       "      <td>5.456</td>\n",
       "      <td>36.6</td>\n",
       "      <td>3.7965</td>\n",
       "      <td>4.0</td>\n",
       "      <td>307.0</td>\n",
       "      <td>21.0</td>\n",
       "      <td>11.69</td>\n",
       "      <td>20.2</td>\n",
       "    </tr>\n",
       "    <tr>\n",
       "      <th>19</th>\n",
       "      <td>19</td>\n",
       "      <td>0.72580</td>\n",
       "      <td>0.0</td>\n",
       "      <td>8.14</td>\n",
       "      <td>0.0</td>\n",
       "      <td>0.538</td>\n",
       "      <td>5.727</td>\n",
       "      <td>69.5</td>\n",
       "      <td>3.7965</td>\n",
       "      <td>4.0</td>\n",
       "      <td>307.0</td>\n",
       "      <td>21.0</td>\n",
       "      <td>11.28</td>\n",
       "      <td>18.2</td>\n",
       "    </tr>\n",
       "  </tbody>\n",
       "</table>\n",
       "</div>"
      ],
      "text/plain": [
       "    Unnamed: 0     CRIM    ZN  INDUS  CHAS    NOX     RM    AGE     DIS  RAD  \\\n",
       "0            0  0.00632  18.0   2.31   0.0  0.538  6.575   65.2  4.0900  1.0   \n",
       "1            1  0.02731   0.0   7.07   0.0  0.469  6.421   78.9  4.9671  2.0   \n",
       "2            2  0.02729   0.0   7.07   0.0  0.469  7.185   61.1  4.9671  2.0   \n",
       "3            3  0.03237   0.0   2.18   0.0  0.458  6.998   45.8  6.0622  3.0   \n",
       "4            4  0.06905   0.0   2.18   0.0  0.458  7.147   54.2  6.0622  3.0   \n",
       "5            5  0.02985   0.0   2.18   0.0  0.458  6.430   58.7  6.0622  3.0   \n",
       "6            6  0.08829  12.5   7.87   0.0  0.524  6.012   66.6  5.5605  5.0   \n",
       "7            7  0.14455  12.5   7.87   0.0  0.524  6.172   96.1  5.9505  5.0   \n",
       "8            8  0.21124  12.5   7.87   0.0  0.524  5.631  100.0  6.0821  5.0   \n",
       "9            9  0.17004  12.5   7.87   0.0  0.524  6.004   85.9  6.5921  5.0   \n",
       "10          10  0.22489  12.5   7.87   0.0  0.524  6.377   94.3  6.3467  5.0   \n",
       "11          11  0.11747  12.5   7.87   0.0  0.524  6.009   82.9  6.2267  5.0   \n",
       "12          12  0.09378  12.5   7.87   0.0  0.524  5.889   39.0  5.4509  5.0   \n",
       "13          13  0.62976   0.0   8.14   0.0  0.538  5.949   61.8  4.7075  4.0   \n",
       "14          14  0.63796   0.0   8.14   0.0  0.538  6.096   84.5  4.4619  4.0   \n",
       "15          15  0.62739   0.0   8.14   0.0  0.538  5.834   56.5  4.4986  4.0   \n",
       "16          16  1.05393   0.0   8.14   0.0  0.538  5.935   29.3  4.4986  4.0   \n",
       "17          17  0.78420   0.0   8.14   0.0  0.538  5.990   81.7  4.2579  4.0   \n",
       "18          18  0.80271   0.0   8.14   0.0  0.538  5.456   36.6  3.7965  4.0   \n",
       "19          19  0.72580   0.0   8.14   0.0  0.538  5.727   69.5  3.7965  4.0   \n",
       "\n",
       "      TAX  PTRATIO  LSTAT  MEDV  \n",
       "0   296.0     15.3   4.98  24.0  \n",
       "1   242.0     17.8   9.14  21.6  \n",
       "2   242.0     17.8   4.03  34.7  \n",
       "3   222.0     18.7   2.94  33.4  \n",
       "4   222.0     18.7   5.33  36.2  \n",
       "5   222.0     18.7   5.21  28.7  \n",
       "6   311.0     15.2  12.43  22.9  \n",
       "7   311.0     15.2  19.15  27.1  \n",
       "8   311.0     15.2  29.93  16.5  \n",
       "9   311.0     15.2  17.10  18.9  \n",
       "10  311.0     15.2  20.45  15.0  \n",
       "11  311.0     15.2  13.27  18.9  \n",
       "12  311.0     15.2  15.71  21.7  \n",
       "13  307.0     21.0   8.26  20.4  \n",
       "14  307.0     21.0  10.26  18.2  \n",
       "15  307.0     21.0   8.47  19.9  \n",
       "16  307.0     21.0   6.58  23.1  \n",
       "17  307.0     21.0  14.67  17.5  \n",
       "18  307.0     21.0  11.69  20.2  \n",
       "19  307.0     21.0  11.28  18.2  "
      ]
     },
     "execution_count": 34,
     "metadata": {},
     "output_type": "execute_result"
    }
   ],
   "source": [
    "df.head(20)"
   ]
  },
  {
   "cell_type": "code",
   "execution_count": 35,
   "id": "a5cae17e",
   "metadata": {},
   "outputs": [
    {
     "data": {
      "image/png": "[encoded data removed]",
      "text/plain": [
       "<Figure size 432x288 with 1 Axes>"
      ]
     },
     "metadata": {
      "needs_background": "light"
     },
     "output_type": "display_data"
    }
   ],
   "source": [
    "## For the \"Median value of owner-occupied homes\" provide a boxplot\n",
    "import seaborn as sns\n",
    "import matplotlib.pyplot as plt \n",
    "box = sns.boxplot(y='MEDV', data=df)\n",
    "box.set_title(\"Median value of owner-occupied homes boxplot\")\n",
    "plt.show()"
   ]
  },
  {
   "cell_type": "markdown",
   "id": "30f805a3",
   "metadata": {},
   "source": [
    "#### Explanation: This box plot shows the Median value of owner-occupied homes. The average is around 20-22 with a range of around 50. This box plot shows there are a lot of locations between 15-25 value but there are some well below or above."
   ]
  },
  {
   "cell_type": "code",
   "execution_count": 36,
   "id": "1dd2df69",
   "metadata": {},
   "outputs": [
    {
     "data": {
      "image/png": "[encoded data removed]",
      "text/plain": [
       "<Figure size 360x360 with 1 Axes>"
      ]
     },
     "metadata": {
      "needs_background": "light"
     },
     "output_type": "display_data"
    }
   ],
   "source": [
    "## Provide a  bar plot for the Charles river variable\n",
    "catplot= sns.catplot(x='CHAS', kind='count', data=df)\n",
    "catplot.set(title=\"Charles River Bar Plot\")\n",
    "plt.show()"
   ]
  },
  {
   "cell_type": "markdown",
   "id": "74ea4e7a",
   "metadata": {},
   "source": [
    "#### Explanation: This chart shows us that there are many more observations for tracts that are not next to the river"
   ]
  },
  {
   "cell_type": "code",
   "execution_count": 37,
   "id": "8faeef17",
   "metadata": {},
   "outputs": [
    {
     "data": {
      "image/png": "[encoded data removed]",
      "text/plain": [
       "<Figure size 432x288 with 1 Axes>"
      ]
     },
     "metadata": {
      "needs_background": "light"
     },
     "output_type": "display_data"
    }
   ],
   "source": [
    "## Provide a boxplot for the MEDV variable vs the AGE variable. (Discretize the age variable into three groups of 35 years and younger, between 35 and 70 years and 70 years and older)\n",
    "df.loc[(df['AGE'] <= 35), 'AGE_bracket'] = '35 years and younger'\n",
    "df.loc[(df['AGE'] > 35)&(df['AGE'] < 70), 'AGE_bracket'] = 'between 35 and 70 years'\n",
    "df.loc[(df['AGE'] >= 70), 'AGE_bracket'] = '70 years and older'\n",
    "\n",
    "box = sns.boxplot(y='MEDV', x ='AGE_bracket', data=df)\n",
    "box.set_title(\"MEDV (AGE groups)\")\n",
    "plt.show()"
   ]
  },
  {
   "cell_type": "markdown",
   "id": "305eadf8",
   "metadata": {},
   "source": [
    "#### Explanation: This boxplot shows that there is no statistical signficant difference between agre groups (age groups were created manually so there may be significance if groups were grouped dirferently)"
   ]
  },
  {
   "cell_type": "code",
   "execution_count": 38,
   "id": "b0a9f377",
   "metadata": {},
   "outputs": [
    {
     "data": {
      "image/png": "[encoded data removed]",
      "text/plain": [
       "<Figure size 360x360 with 1 Axes>"
      ]
     },
     "metadata": {
      "needs_background": "light"
     },
     "output_type": "display_data"
    }
   ],
   "source": [
    "## Provide a scatter plot to show the relationship between Nitric oxide concentrations and the proportion of non-retail business acres per town. What can you say about the relationship?\n",
    "\n",
    "scatter = sns.relplot(x=\"NOX\", y=\"INDUS\", data=df)\n",
    "scatter.set(title=\"Scatterplot NOX vs INDUS\")\n",
    "plt.show()"
   ]
  },
  {
   "cell_type": "markdown",
   "id": "c0020319",
   "metadata": {},
   "source": [
    "#### Explanation: This shows that on average a higher NOX (Nitic oxides concentration) corresponds to a higher INDUS (proportion of non-retail business acres per town). The relationship weakens after NOX of .6"
   ]
  },
  {
   "cell_type": "code",
   "execution_count": 39,
   "id": "d75dd58f",
   "metadata": {},
   "outputs": [
    {
     "data": {
      "image/png": "[encoded data removed]",
      "text/plain": [
       "<Figure size 360x360 with 1 Axes>"
      ]
     },
     "metadata": {
      "needs_background": "light"
     },
     "output_type": "display_data"
    }
   ],
   "source": [
    "## Create a histogram for the pupil to teacher ratio variable\n",
    "\n",
    "catplot = sns.catplot(x='PTRATIO', kind='count', data=df)\n",
    "catplot.set(title=\"Histogram Pupil to Teacher Ratio\")\n",
    "plt.show()"
   ]
  },
  {
   "cell_type": "markdown",
   "id": "46f0c80d",
   "metadata": {},
   "source": [
    "#### Explanation: This shows a histogram count of the PTRATIO which is the pupil to teacher ratio. This would shows the most common ratios of pupil to teachers, the most common seems to be around "
   ]
  },
  {
   "cell_type": "markdown",
   "id": "a101219f",
   "metadata": {},
   "source": [
    "### NULL HYPOTHESIS: There is no difference in value between houses on the river vs away from the river\n",
    "### ALTERNATE HYPOTHESIS: There is a difference in value between houses on the river vs away from the river"
   ]
  },
  {
   "cell_type": "code",
   "execution_count": 40,
   "id": "288787d9",
   "metadata": {},
   "outputs": [
    {
     "name": "stderr",
     "output_type": "stream",
     "text": [
      "C:\\Users\\GNXDT\\Anaconda3\\lib\\site-packages\\seaborn\\distributions.py:2619: FutureWarning: `distplot` is a deprecated function and will be removed in a future version. Please adapt your code to use either `displot` (a figure-level function with similar flexibility) or `histplot` (an axes-level function for histograms).\n",
      "  warnings.warn(msg, FutureWarning)\n"
     ]
    },
    {
     "data": {
      "text/plain": [
       "[Text(0.5, 0, 'Normal Distribution'), Text(0, 0.5, 'Frequency')]"
      ]
     },
     "execution_count": 40,
     "metadata": {},
     "output_type": "execute_result"
    },
    {
     "data": {
      "image/png": "[encoded data removed]",
      "text/plain": [
       "<Figure size 432x288 with 1 Axes>"
      ]
     },
     "metadata": {
      "needs_background": "light"
     },
     "output_type": "display_data"
    }
   ],
   "source": [
    "## Is there a significant difference in median value of houses bounded by the Charles river or not? (T-test for independent samples)\n",
    "\n",
    "\n",
    "dis = sns.distplot(df['MEDV'], bins=20, kde=True, color='blue', hist_kws={\"linewidth\": 15,'alpha':1})\n",
    "dis.set(xlabel='Normal Distribution', ylabel='Frequency')"
   ]
  },
  {
   "cell_type": "code",
   "execution_count": 41,
   "id": "0186923c",
   "metadata": {},
   "outputs": [
    {
     "data": {
      "text/plain": [
       "Ttest_indResult(statistic=-3.996437466090509, pvalue=7.390623170519905e-05)"
      ]
     },
     "execution_count": 41,
     "metadata": {},
     "output_type": "execute_result"
    }
   ],
   "source": [
    "import scipy.stats\n",
    "\n",
    "scipy.stats.ttest_ind(df[df['CHAS'] == 0]['MEDV'], df[df['CHAS'] == 1]['MEDV'], equal_var = True)"
   ]
  },
  {
   "cell_type": "markdown",
   "id": "36309d94",
   "metadata": {},
   "source": [
    "#### Explanation: Since the pvalue is less than .05 then we reject the null hypothesis that there is no difference in median price between next to the river and not next to the river. There is a significant difference."
   ]
  },
  {
   "cell_type": "markdown",
   "id": "f8120da1",
   "metadata": {},
   "source": [
    "### NULL HYPOTHESIS: There is no difference in value between age groups\n",
    "### ALTERNATE HYPOTHESIS: There is a difference in value between age groups"
   ]
  },
  {
   "cell_type": "code",
   "execution_count": 42,
   "id": "7a4dc130",
   "metadata": {},
   "outputs": [
    {
     "name": "stdout",
     "output_type": "stream",
     "text": [
      "F_Statistic: 36.40764999196599, P-Value: 1.7105011022702984e-15\n"
     ]
    }
   ],
   "source": [
    "## Is there a difference in Median values of houses (MEDV) for each proportion of owner occupied units built prior to 1940 (AGE)? (ANOVA)\n",
    "\n",
    "df.loc[(df['AGE'] <= 35), 'AGE_bracket'] = '35 years and younger'\n",
    "df.loc[(df['AGE'] > 35)&(df['AGE'] < 70), 'AGE_bracket'] = 'between 35 and 70 years'\n",
    "df.loc[(df['AGE'] >= 70), 'AGE_bracket'] = '70 years and older'\n",
    "\n",
    "thirtyfive_lower = df[df['AGE_bracket'] == '35 years and younger']['MEDV']\n",
    "thirtyfive_seventy = df[df['AGE_bracket'] == 'between 35 and 70 years']['MEDV']\n",
    "seventy_older = df[df['AGE_bracket'] == '70 years and older']['MEDV']\n",
    "\n",
    "f_statistic, p_value = scipy.stats.f_oneway(thirtyfive_lower,thirtyfive_seventy, seventy_older )\n",
    "print(\"F_Statistic: {0}, P-Value: {1}\".format(f_statistic,p_value))\n"
   ]
  },
  {
   "cell_type": "markdown",
   "id": "4e045b29",
   "metadata": {},
   "source": [
    "#### Explanation: Since the p-value is less than 0.05, we reject the null hypothesis because there is enough evidence that at least one of the means differ.  The median price is not the same idependent of AGE. AGE plays a role in the median price of the house."
   ]
  },
  {
   "cell_type": "markdown",
   "id": "10818ccb",
   "metadata": {},
   "source": [
    "### NULL HYPOTHESIS: There is no correlation between the two variables\n",
    "### ALTERNATE HYPOTHESIS: There is a correlation between the two variables"
   ]
  },
  {
   "cell_type": "code",
   "execution_count": 43,
   "id": "1344ceb1",
   "metadata": {},
   "outputs": [
    {
     "data": {
      "text/plain": [
       "(0.763651446920915, 7.913361061239593e-98)"
      ]
     },
     "execution_count": 43,
     "metadata": {},
     "output_type": "execute_result"
    }
   ],
   "source": [
    "## Can we conclude that there is no relationship between Nitric oxide concentrations and proportion of non-retail business acres per town? (Pearson Correlation)\n",
    "\n",
    "\n",
    "scipy.stats.pearsonr(df['NOX'], df['INDUS'])"
   ]
  },
  {
   "cell_type": "markdown",
   "id": "24b3f4b3",
   "metadata": {},
   "source": [
    "#### Explanation: p value is less than .05 so it means that there is a relationship between the varibles NOX and INDUS. You cannot conclude there is no relationship."
   ]
  },
  {
   "cell_type": "markdown",
   "id": "ae261483",
   "metadata": {},
   "source": [
    "### NULL HYPOTHESIS: There is no relationship between variables\n",
    "### ALTERNATE HYPOTHESIS: There is a relationship between variables"
   ]
  },
  {
   "cell_type": "code",
   "execution_count": 44,
   "id": "4d1c9a68",
   "metadata": {},
   "outputs": [
    {
     "data": {
      "text/html": [
       "<table class=\"simpletable\">\n",
       "<caption>OLS Regression Results</caption>\n",
       "<tr>\n",
       "  <th>Dep. Variable:</th>          <td>MEDV</td>       <th>  R-squared:         </th> <td>   0.062</td>\n",
       "</tr>\n",
       "<tr>\n",
       "  <th>Model:</th>                   <td>OLS</td>       <th>  Adj. R-squared:    </th> <td>   0.061</td>\n",
       "</tr>\n",
       "<tr>\n",
       "  <th>Method:</th>             <td>Least Squares</td>  <th>  F-statistic:       </th> <td>   33.58</td>\n",
       "</tr>\n",
       "<tr>\n",
       "  <th>Date:</th>             <td>Tue, 02 Jan 2024</td> <th>  Prob (F-statistic):</th> <td>1.21e-08</td>\n",
       "</tr>\n",
       "<tr>\n",
       "  <th>Time:</th>                 <td>15:24:19</td>     <th>  Log-Likelihood:    </th> <td> -1823.9</td>\n",
       "</tr>\n",
       "<tr>\n",
       "  <th>No. Observations:</th>      <td>   506</td>      <th>  AIC:               </th> <td>   3652.</td>\n",
       "</tr>\n",
       "<tr>\n",
       "  <th>Df Residuals:</th>          <td>   504</td>      <th>  BIC:               </th> <td>   3660.</td>\n",
       "</tr>\n",
       "<tr>\n",
       "  <th>Df Model:</th>              <td>     1</td>      <th>                     </th>     <td> </td>   \n",
       "</tr>\n",
       "<tr>\n",
       "  <th>Covariance Type:</th>      <td>nonrobust</td>    <th>                     </th>     <td> </td>   \n",
       "</tr>\n",
       "</table>\n",
       "<table class=\"simpletable\">\n",
       "<tr>\n",
       "    <td></td>       <th>coef</th>     <th>std err</th>      <th>t</th>      <th>P>|t|</th>  <th>[0.025</th>    <th>0.975]</th>  \n",
       "</tr>\n",
       "<tr>\n",
       "  <th>const</th> <td>   18.3901</td> <td>    0.817</td> <td>   22.499</td> <td> 0.000</td> <td>   16.784</td> <td>   19.996</td>\n",
       "</tr>\n",
       "<tr>\n",
       "  <th>DIS</th>   <td>    1.0916</td> <td>    0.188</td> <td>    5.795</td> <td> 0.000</td> <td>    0.722</td> <td>    1.462</td>\n",
       "</tr>\n",
       "</table>\n",
       "<table class=\"simpletable\">\n",
       "<tr>\n",
       "  <th>Omnibus:</th>       <td>139.779</td> <th>  Durbin-Watson:     </th> <td>   0.570</td>\n",
       "</tr>\n",
       "<tr>\n",
       "  <th>Prob(Omnibus):</th> <td> 0.000</td>  <th>  Jarque-Bera (JB):  </th> <td> 305.104</td>\n",
       "</tr>\n",
       "<tr>\n",
       "  <th>Skew:</th>          <td> 1.466</td>  <th>  Prob(JB):          </th> <td>5.59e-67</td>\n",
       "</tr>\n",
       "<tr>\n",
       "  <th>Kurtosis:</th>      <td> 5.424</td>  <th>  Cond. No.          </th> <td>    9.32</td>\n",
       "</tr>\n",
       "</table><br/><br/>Notes:<br/>[1] Standard Errors assume that the covariance matrix of the errors is correctly specified."
      ],
      "text/plain": [
       "<class 'statsmodels.iolib.summary.Summary'>\n",
       "\"\"\"\n",
       "                            OLS Regression Results                            \n",
       "==============================================================================\n",
       "Dep. Variable:                   MEDV   R-squared:                       0.062\n",
       "Model:                            OLS   Adj. R-squared:                  0.061\n",
       "Method:                 Least Squares   F-statistic:                     33.58\n",
       "Date:                Tue, 02 Jan 2024   Prob (F-statistic):           1.21e-08\n",
       "Time:                        15:24:19   Log-Likelihood:                -1823.9\n",
       "No. Observations:                 506   AIC:                             3652.\n",
       "Df Residuals:                     504   BIC:                             3660.\n",
       "Df Model:                           1                                         \n",
       "Covariance Type:            nonrobust                                         \n",
       "==============================================================================\n",
       "                 coef    std err          t      P>|t|      [0.025      0.975]\n",
       "------------------------------------------------------------------------------\n",
       "const         18.3901      0.817     22.499      0.000      16.784      19.996\n",
       "DIS            1.0916      0.188      5.795      0.000       0.722       1.462\n",
       "==============================================================================\n",
       "Omnibus:                      139.779   Durbin-Watson:                   0.570\n",
       "Prob(Omnibus):                  0.000   Jarque-Bera (JB):              305.104\n",
       "Skew:                           1.466   Prob(JB):                     5.59e-67\n",
       "Kurtosis:                       5.424   Cond. No.                         9.32\n",
       "==============================================================================\n",
       "\n",
       "Notes:\n",
       "[1] Standard Errors assume that the covariance matrix of the errors is correctly specified.\n",
       "\"\"\""
      ]
     },
     "execution_count": 44,
     "metadata": {},
     "output_type": "execute_result"
    }
   ],
   "source": [
    "## What is the impact of an additional weighted distance  to the five Boston employment centres on the median value of owner occupied homes? (Regression analysis)\n",
    "\n",
    "import statsmodels.api as sm\n",
    "\n",
    "X = df['DIS']\n",
    "y = df['MEDV']\n",
    "X = sm.add_constant(X) \n",
    "\n",
    "model = sm.OLS(y, X).fit()\n",
    "predictions = model.predict(X)\n",
    "\n",
    "# Print out the statistics\n",
    "model.summary()"
   ]
  },
  {
   "cell_type": "markdown",
   "id": "d25160a7",
   "metadata": {},
   "source": [
    "#### Explanation: There is almost no impact/correlation between median price and distance to centers (there is a very small r-squared (.061) which tells us fit, and there is low fit, so therefore the correlation of variables is not strong)"
   ]
  },
  {
   "cell_type": "code",
   "execution_count": null,
   "id": "2f1b5f64",
   "metadata": {},
   "outputs": [],
   "source": []
  }
 ],
 "metadata": {
  "kernelspec": {
   "display_name": "Python 3 (ipykernel)",
   "language": "python",
   "name": "python3"
  },
  "language_info": {
   "codemirror_mode": {
    "name": "ipython",
    "version": 3
   },
   "file_extension": ".py",
   "mimetype": "text/x-python",
   "name": "python",
   "nbconvert_exporter": "python",
   "pygments_lexer": "ipython3",
   "version": "3.9.12"
  }
 },
 "nbformat": 4,
 "nbformat_minor": 5
}
